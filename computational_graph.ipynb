{
 "cells": [
  {
   "cell_type": "markdown",
   "metadata": {},
   "source": [
    "# Custom graph"
   ]
  },
  {
   "cell_type": "code",
   "execution_count": 15,
   "metadata": {},
   "outputs": [],
   "source": [
    "import operator\n",
    "from numbers import Number\n",
    "import numpy as np\n",
    "\n",
    "op_map = {\n",
    "    operator.neg: \"-\",\n",
    "    operator.add: \"+\",\n",
    "    operator.mul: \"*\",\n",
    "    operator.sub: \"-\",\n",
    "    operator.truediv: \"/\",\n",
    "    operator.pow: \"**\",\n",
    "    np.reciprocal: \"reciprocal\",\n",
    "    np.exp: \"exp\",\n",
    "    np.sqrt: \"sqrt\"\n",
    "}"
   ]
  },
  {
   "cell_type": "code",
   "execution_count": 18,
   "metadata": {},
   "outputs": [],
   "source": [
    "class Node:  \n",
    "    def __pow__(a, p): return Pow(a, p)\n",
    "    def __neg__(a):    return Negative(a)\n",
    "    def __mul__(a, b): return Mul(a, b)\n",
    "    def __add__(a, b): return Add(a, b)\n",
    "    def __sub__(a, b): return Add(a, Negative(b))\n",
    "    def __truediv__(a, b): return a * Reciprocal(b)\n",
    "    def __rtruediv__(a, b):\n",
    "        if not isinstance(b, Number):\n",
    "            raise NotImplementedError\n",
    "        return Mul(Const(b), Reciprocal(a))\n",
    "    \n",
    "    def __rsub__(a, b):\n",
    "        if not isinstance(b, Number):\n",
    "            raise NotImplementedError\n",
    "        return Add(Const(b), Negative(a))\n",
    "    \n",
    "    def __radd__(a, b):\n",
    "        if not isinstance(b, Number):\n",
    "            raise NotImplementedError\n",
    "        return Add(Const(b), a)\n",
    "    \n",
    "    def __rmul__(a, b):\n",
    "        if not isinstance(b, Number):\n",
    "            raise NotImplementedError\n",
    "        return Mul(Const(b), a)\n",
    "    \n",
    "    def _str(self): return op_map[self.op]"
   ]
  },
  {
   "cell_type": "code",
   "execution_count": 19,
   "metadata": {},
   "outputs": [],
   "source": [
    "class Const(Node):\n",
    "    def __init__(self, value):\n",
    "        self.value = value\n",
    "    def evaluate(self):\n",
    "        return self.value\n",
    "    def __str__(self):\n",
    "        return str(self.value)\n",
    "    def gradient(self, var):\n",
    "        return Const(0)\n",
    "    \n",
    "class Var(Node):\n",
    "    def __init__(self, name, init_value=0):\n",
    "        self.value = init_value\n",
    "        self.name = name\n",
    "    def evaluate(self):\n",
    "        return self.value\n",
    "    def __str__(self):\n",
    "        return self.name\n",
    "    \n",
    "    __repr__ = __str__\n",
    "    \n",
    "    def gradient(self, var):\n",
    "        return Const(1) if self is var else Const(0)\n",
    "    \n",
    "def maybe_cast(a):\n",
    "    if isinstance(a, Node):\n",
    "        return a\n",
    "    elif isinstance(a, Number):\n",
    "        return Const(a)\n",
    "    else:\n",
    "        raise NotImplementedError"
   ]
  },
  {
   "cell_type": "code",
   "execution_count": 20,
   "metadata": {},
   "outputs": [],
   "source": [
    "class Unary(Node):\n",
    "    def __init__(self, a):\n",
    "        self.a = maybe_cast(a)\n",
    "    \n",
    "    def __str__(self):\n",
    "        return f\"{self._str()}({self.a})\"\n",
    "    \n",
    "    __repr__  = __str__\n",
    "    \n",
    "    def evaluate(self):\n",
    "        return self.op(self.a.evaluate())\n",
    "    \n",
    "    def gradient(self, var):\n",
    "        return Mul(self.derivative(self.a), self.a.gradient(var))\n",
    "\n",
    "class Reciprocal(Unary):\n",
    "    op = np.reciprocal\n",
    "    def derivative(self, var):\n",
    "        return Negative(Mul(Reciprocal(var), Reciprocal(var)))\n",
    "    \n",
    "class Negative(Unary):\n",
    "    op = operator.neg\n",
    "    def derivative(self, var):\n",
    "        return Negative(Const(1))\n",
    "    \n",
    "class Exp(Unary):\n",
    "    op = np.exp\n",
    "    def derivative(self, var):\n",
    "        return self.__class__(var)\n",
    "    \n",
    "class Sqrt(Unary):\n",
    "    op = np.sqrt\n",
    "    def derivative(self, var):\n",
    "        return Reciprocal(Mul(Const(2), Sqrt(var)))"
   ]
  },
  {
   "cell_type": "code",
   "execution_count": 21,
   "metadata": {},
   "outputs": [],
   "source": [
    "class BinaryOperator(Node):\n",
    "    def __init__(self, a, b):\n",
    "        self.a = maybe_cast(a)\n",
    "        self.b = maybe_cast(b)\n",
    "    \n",
    "    def __str__(self):\n",
    "        return \"{} {} {}\".format(self.a, self._format(), self.b)\n",
    "    \n",
    "    __repr__ = __str__\n",
    "    \n",
    "    def evaluate(self):\n",
    "        return self.op(self.a.evaluate(), self.b.evaluate())\n",
    "\n",
    "class Add(BinaryOperator):\n",
    "    op = operator.add\n",
    "    def gradient(self, var):\n",
    "        return Add(self.a.gradient(var), self.b.gradient(var))\n",
    "\n",
    "class Mul(BinaryOperator):\n",
    "    op = operator.mul\n",
    "    def gradient(self, var):\n",
    "        return Add(Mul(self.a, self.b.gradient(var)), \n",
    "                   Mul(self.a.gradient(var), self.b))\n",
    "\n",
    "class Pow(BinaryOperator):\n",
    "    op = operator.pow\n",
    "    def gradient(self, var):\n",
    "        return self.b * Pow(self.a, self.b - 1) * self.a.gradient(var)"
   ]
  },
  {
   "cell_type": "code",
   "execution_count": 22,
   "metadata": {},
   "outputs": [],
   "source": [
    "x = Var(name=\"x\", init_value=3.)\n",
    "y = Var(name=\"y\", init_value=4.)\n",
    "f = x**2 * y + y + 2\n",
    "\n",
    "dfdx = f.gradient(x)  # 2xy\n",
    "dfdy = f.gradient(y)  # x² + 1"
   ]
  },
  {
   "cell_type": "code",
   "execution_count": 23,
   "metadata": {},
   "outputs": [
    {
     "data": {
      "text/plain": [
       "(24.0, 10.0)"
      ]
     },
     "execution_count": 23,
     "metadata": {},
     "output_type": "execute_result"
    }
   ],
   "source": [
    "dfdx.evaluate(), dfdy.evaluate()"
   ]
  },
  {
   "cell_type": "code",
   "execution_count": 24,
   "metadata": {},
   "outputs": [],
   "source": [
    "d2fdxdx = dfdx.gradient(x) # 2y\n",
    "d2fdxdy = dfdx.gradient(y) # 2x\n",
    "d2fdydx = dfdy.gradient(x) # 2x\n",
    "d2fdydy = dfdy.gradient(y) # 0"
   ]
  },
  {
   "cell_type": "code",
   "execution_count": 25,
   "metadata": {},
   "outputs": [
    {
     "data": {
      "text/plain": [
       "[[8.0, 6.0], [6.0, 0.0]]"
      ]
     },
     "execution_count": 25,
     "metadata": {},
     "output_type": "execute_result"
    }
   ],
   "source": [
    "[[d2fdxdx.evaluate(), d2fdxdy.evaluate()],\n",
    " [d2fdydx.evaluate(), d2fdydy.evaluate()]]"
   ]
  }
 ],
 "metadata": {
  "kernelspec": {
   "display_name": "Python 3",
   "language": "python",
   "name": "python3"
  },
  "language_info": {
   "codemirror_mode": {
    "name": "ipython",
    "version": 3
   },
   "file_extension": ".py",
   "mimetype": "text/x-python",
   "name": "python",
   "nbconvert_exporter": "python",
   "pygments_lexer": "ipython3",
   "version": "3.6.5"
  }
 },
 "nbformat": 4,
 "nbformat_minor": 2
}
